{
 "cells": [
  {
   "cell_type": "markdown",
   "metadata": {},
   "source": [
    "## Create a permanent forest cover layer for MODIS 2000 - 2020"
   ]
  },
  {
   "cell_type": "code",
   "execution_count": 1,
   "metadata": {},
   "outputs": [],
   "source": [
    "import ee\r\n",
    "import geemap \r\n",
    "import os\r\n",
    "ee.Initialize()"
   ]
  },
  {
   "cell_type": "code",
   "execution_count": 2,
   "metadata": {},
   "outputs": [],
   "source": [
    "# again use the large ROI so I can do a more precise crop/mask/resample with gdal to match MODIS data \r\n",
    "roi = ee.FeatureCollection('users/kmcquil/SBR_XL_simplified').geometry()\r\n"
   ]
  },
  {
   "cell_type": "code",
   "execution_count": 6,
   "metadata": {},
   "outputs": [],
   "source": [
    "# use the MODIS Annual Land Cover Type 1: Annual International Geosphere-Biosphere Programme (IGBP) classification\r\n",
    "dataset = ee.ImageCollection('MODIS/006/MCD12Q1')\r\n",
    "igbpLandCover = dataset.select('LC_Type1')\r\n",
    "QC = dataset.select('QC')"
   ]
  },
  {
   "cell_type": "code",
   "execution_count": null,
   "metadata": {},
   "outputs": [],
   "source": [
    "# Mask out pixels not in [1,2,3,4,5]\r\n",
    "\r\n",
    "# create a mask for each year from the QC band  \r\n",
    "# Keep only pixels == 0 for QC band \r\n",
    "# 0 corresponds to \"Classified land: has a classification label and is land according to the water mask.\"\r\n",
    "\r\n",
    "# Identify pixels that have the same classification for each year \r\n"
   ]
  },
  {
   "cell_type": "code",
   "execution_count": 22,
   "metadata": {},
   "outputs": [],
   "source": [
    "# Mask out pixels not in [1,2,3,4,5] in regular land cover images \r\n",
    "def fmask(im):\r\n",
    "    forest_mask = im.eq(1).max(im.eq(2)).max(im.eq(3)).max(im.eq(4)).max(im.eq(5)).clip(roi)\r\n",
    "    return im.updateMask(forest_mask) \r\n",
    "\r\n",
    "igbpLandCover_fmask = igbpLandCover.map(fmask)"
   ]
  },
  {
   "cell_type": "code",
   "execution_count": 94,
   "metadata": {},
   "outputs": [
    {
     "name": "stdout",
     "output_type": "stream",
     "text": [
      "Index: ['2001_01_01', '2002_01_01', '2003_01_01', '2004_01_01', '2005_01_01', '2006_01_01', '2007_01_01', '2008_01_01', '2009_01_01', '2010_01_01', '2011_01_01', '2012_01_01', '2013_01_01', '2014_01_01', '2015_01_01', '2016_01_01', '2017_01_01', '2018_01_01', '2019_01_01']\n"
     ]
    }
   ],
   "source": [
    "# what years is this available \r\n",
    "idx = igbpLandCover_fmask.aggregate_array('system:index')\r\n",
    "print('Index: '+str(idx.getInfo())) # ee.List of band names\r\n",
    "\r\n",
    "def qc_mask(im):\r\n",
    "    y = ee.Number.parse(ee.Date(im.get('system:time_start')).format('yyyy')).toInt() # get the year \r\n",
    "    qc_im = QC.filter(ee.Filter.calendarRange(y, y, 'year')).first() # use the year to grab the QC image that matches the year of the LC image\r\n",
    "    qmask = qc_im.eq(0).clip(roi) # create a mask using the QC image that \r\n",
    "    return im.updateMask(qmask)\r\n",
    "\r\n",
    "\r\n",
    "igbpLandCover_masked = igbpLandCover_fmask.map(qc_mask)"
   ]
  },
  {
   "cell_type": "code",
   "execution_count": 99,
   "metadata": {},
   "outputs": [],
   "source": [
    "# now that each year is masked to just forest pixels, make the forest pixels all equal 1 \r\n",
    "# then sum the collection \r\n",
    "# pixels = 19 (1 for each year) are permanent from 2001 - 2019 \r\n",
    "\r\n",
    "def p_mask(im):\r\n",
    "    return(im.eq(1).max(im.eq(2)).max(im.eq(3)).max(im.eq(4)).max(im.eq(5)))\r\n",
    "\r\n",
    "per_for_mask = igbpLandCover_masked.map(p_mask)\r\n",
    "total_mask = per_for_mask.sum()\r\n",
    "\r\n",
    "# get just the pixels that = 19\r\n",
    "m19 = total_mask.eq(19)"
   ]
  },
  {
   "cell_type": "code",
   "execution_count": 30,
   "metadata": {},
   "outputs": [
    {
     "data": {
      "application/vnd.jupyter.widget-view+json": {
       "model_id": "e44005ef13744a32a1674a7e15b0f86d",
       "version_major": 2,
       "version_minor": 0
      },
      "text/plain": [
       "Map(center=[40, -100], controls=(WidgetControl(options=['position'], widget=HBox(children=(ToggleButton(value=…"
      ]
     },
     "metadata": {},
     "output_type": "display_data"
    }
   ],
   "source": [
    "Map = geemap.Map(center=(40, -100), zoom=4)\r\n",
    "Map"
   ]
  },
  {
   "cell_type": "code",
   "execution_count": 100,
   "metadata": {},
   "outputs": [],
   "source": [
    "igbpLandCoverVis = {\r\n",
    "  min: 1.0,\r\n",
    "  max: 19.0,\r\n",
    "  'palette': ['FFFFFF', 'CE7E45', 'DF923D', 'F1B555', 'FCD163', '99B718', '74A901',\r\n",
    "    '66A000', '529400', '3E8601', '207401', '056201', '004C00', '023B01',\r\n",
    "    '012E01', '011D01', '011301' ],\r\n",
    "}\r\n",
    "Map.addLayer(m19, igbpLandCoverVis)"
   ]
  },
  {
   "cell_type": "code",
   "execution_count": 101,
   "metadata": {},
   "outputs": [],
   "source": [
    "# export the permanent forest layer \r\n",
    "task_config = {\r\n",
    "        'region': roi,\r\n",
    "        'fileFormat': 'GeoTIFF',\r\n",
    "        'folder':'MODIS_FOREST',\r\n",
    "        'description': 'modis_permanent_forest',\r\n",
    "        'image': m19,\r\n",
    "        'maxPixels':1e13, \r\n",
    "        'scale' : 500\r\n",
    "    }\r\n",
    "\r\n",
    "task=ee.batch.Export.image.toDrive(**task_config)\r\n",
    "task.start()"
   ]
  },
  {
   "cell_type": "code",
   "execution_count": 102,
   "metadata": {},
   "outputs": [
    {
     "name": "stdout",
     "output_type": "stream",
     "text": [
      "Total number of images: 19\n",
      "\n",
      "Exporting 2001_01_01 ...\n",
      "Exporting 2002_01_01 ...\n",
      "Exporting 2003_01_01 ...\n",
      "Exporting 2004_01_01 ...\n",
      "Exporting 2005_01_01 ...\n",
      "Exporting 2006_01_01 ...\n",
      "Exporting 2007_01_01 ...\n",
      "Exporting 2008_01_01 ...\n",
      "Exporting 2009_01_01 ...\n",
      "Exporting 2010_01_01 ...\n",
      "Exporting 2011_01_01 ...\n",
      "Exporting 2012_01_01 ...\n",
      "Exporting 2013_01_01 ...\n",
      "Exporting 2014_01_01 ...\n",
      "Exporting 2015_01_01 ...\n",
      "Exporting 2016_01_01 ...\n",
      "Exporting 2017_01_01 ...\n",
      "Exporting 2018_01_01 ...\n",
      "Exporting 2019_01_01 ...\n"
     ]
    }
   ],
   "source": [
    "# export the forest for every year \r\n",
    "\r\n",
    "geemap.ee_export_image_collection_to_drive(ee_object= igbpLandCover_masked, \r\n",
    "folder='MODIS_YEARLY_FOREST', \r\n",
    "region=roi,\r\n",
    "crs = 'EPSG:4326', \r\n",
    "scale=500\r\n",
    ")\r\n"
   ]
  }
 ],
 "metadata": {
  "interpreter": {
   "hash": "50e663cf97be771ed134ecce5bf4367767ddcc1a3cef0b49c0ce2d915d2989ed"
  },
  "kernelspec": {
   "display_name": "Python 3.8.5 64-bit ('geospatialEnv': conda)",
   "name": "python3"
  },
  "language_info": {
   "codemirror_mode": {
    "name": "ipython",
    "version": 3
   },
   "file_extension": ".py",
   "mimetype": "text/x-python",
   "name": "python",
   "nbconvert_exporter": "python",
   "pygments_lexer": "ipython3",
   "version": "3.8.5"
  },
  "orig_nbformat": 4
 },
 "nbformat": 4,
 "nbformat_minor": 2
}