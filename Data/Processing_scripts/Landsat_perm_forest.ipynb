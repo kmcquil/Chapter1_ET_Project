{
 "cells": [
  {
   "cell_type": "markdown",
   "metadata": {},
   "source": [
    "## Create a permanent forest cover layer for Landsat data using NLCD "
   ]
  },
  {
   "cell_type": "code",
   "execution_count": 20,
   "metadata": {},
   "outputs": [],
   "source": [
    "import ee\r\n",
    "import geemap \r\n",
    "import os\r\n",
    "ee.Initialize()\r\n",
    "\r\n",
    "roi = ee.FeatureCollection('users/kmcquil/SBR_XL_simplified').geometry()\r\n"
   ]
  },
  {
   "cell_type": "code",
   "execution_count": 5,
   "metadata": {},
   "outputs": [
    {
     "name": "stdout",
     "output_type": "stream",
     "text": [
      "Products: ['1992', '2001', '2001_AK', '2001_HI', '2001_PR', '2004', '2006', '2008', '2011', '2011_AK', '2011_HI', '2011_PR', '2013', '2016', '2016_AK', '2016_HI', '2016_PR']\n",
      "Bands: ['landcover']\n"
     ]
    }
   ],
   "source": [
    "# Import the NLCD collection.\r\n",
    "dataset = ee.ImageCollection('USGS/NLCD_RELEASES/2016_REL')\r\n",
    "\r\n",
    "# The collection contains images for multiple years and regions in the USA.\r\n",
    "print('Products:', dataset.aggregate_array('system:index').getInfo())\r\n",
    "\r\n",
    "# have one for 1992, 2001, 2004, 2006, 2008, 2011, 2013, 2016\r\n",
    "# 1992 just has land cover \r\n",
    "\r\n",
    "# Filter the collection to the 2016 product.\r\n",
    "nlcd2016 = dataset.filter(ee.Filter.eq('system:index', '1992')).first()\r\n",
    "\r\n",
    "# Each product has multiple bands for describing aspects of land cover.\r\n",
    "print('Bands:', nlcd2016.bandNames().getInfo())\r\n",
    "\r\n",
    "# Select the land cover band.\r\n",
    "#landcover = nlcd2016.select('landcover')\r\n"
   ]
  },
  {
   "cell_type": "code",
   "execution_count": null,
   "metadata": {},
   "outputs": [],
   "source": [
    "# for each year\r\n",
    "# select land cover \r\n",
    "# create a mask to look just at the forested land cover types "
   ]
  },
  {
   "cell_type": "code",
   "execution_count": 35,
   "metadata": {},
   "outputs": [],
   "source": [
    "# forest is 41, 42, 43 \r\n",
    "def LC(y):\r\n",
    "    nlcd = dataset.filter(ee.Filter.eq('system:index', y))\r\n",
    "    landcover = nlcd.select('landcover').mosaic().clip(roi)\r\n",
    "    return landcover.eq(41).max(landcover.eq(42)).max(landcover.eq(43))\r\n",
    "\r\n"
   ]
  },
  {
   "cell_type": "code",
   "execution_count": 36,
   "metadata": {},
   "outputs": [],
   "source": [
    "# apply mask to all years \r\n",
    "years = ee.List(['1992', '2001', '2004', '2006', '2008', '2011', '2013', '2016'])\r\n",
    "lc_mask_years = ee.ImageCollection.fromImages(years.map(LC).flatten())"
   ]
  },
  {
   "cell_type": "code",
   "execution_count": 37,
   "metadata": {},
   "outputs": [
    {
     "name": "stdout",
     "output_type": "stream",
     "text": [
      "count = 8\n",
      "\n"
     ]
    }
   ],
   "source": [
    "count=lc_mask_years.size()\r\n",
    "print('count =', str(count.getInfo())+'\\n')"
   ]
  },
  {
   "cell_type": "code",
   "execution_count": 38,
   "metadata": {},
   "outputs": [],
   "source": [
    "# sum all of the years \r\n",
    "lc_sum = lc_mask_years.sum()"
   ]
  },
  {
   "cell_type": "code",
   "execution_count": 44,
   "metadata": {},
   "outputs": [],
   "source": [
    "# there are 8 years, so we only want pixels = 8 \r\n",
    "lc_sum8 = lc_sum.eq(8)\r\n",
    "\r\n",
    "lc_sum8 = lc_sum8.updateMask(lc_sum8)"
   ]
  },
  {
   "cell_type": "code",
   "execution_count": 45,
   "metadata": {},
   "outputs": [
    {
     "data": {
      "application/vnd.jupyter.widget-view+json": {
       "model_id": "3d813222015c433cbf13f53683fbc18e",
       "version_major": 2,
       "version_minor": 0
      },
      "text/plain": [
       "Map(center=[40, -100], controls=(WidgetControl(options=['position'], widget=HBox(children=(ToggleButton(value=…"
      ]
     },
     "metadata": {},
     "output_type": "display_data"
    }
   ],
   "source": [
    "Map = geemap.Map(center=(40, -100), zoom=4)\r\n",
    "Map"
   ]
  },
  {
   "cell_type": "code",
   "execution_count": 46,
   "metadata": {},
   "outputs": [],
   "source": [
    "igbpLandCoverVis = {\r\n",
    "  min: 8.0,\r\n",
    "  max: 19.0,\r\n",
    "  'palette': ['FFFFFF', 'CE7E45', 'DF923D', 'F1B555', 'FCD163', '99B718', '74A901',\r\n",
    "    '66A000', '529400', '3E8601', '207401', '056201', '004C00', '023B01',\r\n",
    "    '012E01', '011D01', '011301' ],\r\n",
    "}\r\n",
    "Map.addLayer(lc_sum8, igbpLandCoverVis)"
   ]
  },
  {
   "cell_type": "code",
   "execution_count": 47,
   "metadata": {},
   "outputs": [],
   "source": [
    "# export the permanent forest cover layer \r\n",
    "\r\n",
    "task_config = {\r\n",
    "        'region': roi,\r\n",
    "        'fileFormat': 'GeoTIFF',\r\n",
    "        'folder':'LANDSAT_FOREST',\r\n",
    "        'description': 'landsat_permanent_forest',\r\n",
    "        'image': lc_sum8,\r\n",
    "        'maxPixels':1e13, \r\n",
    "        'scale' : 30\r\n",
    "    }\r\n",
    "\r\n",
    "task=ee.batch.Export.image.toDrive(**task_config)\r\n",
    "task.start()"
   ]
  }
 ],
 "metadata": {
  "interpreter": {
   "hash": "50e663cf97be771ed134ecce5bf4367767ddcc1a3cef0b49c0ce2d915d2989ed"
  },
  "kernelspec": {
   "display_name": "Python 3.8.5 64-bit ('geospatialEnv': conda)",
   "name": "python3"
  },
  "language_info": {
   "codemirror_mode": {
    "name": "ipython",
    "version": 3
   },
   "file_extension": ".py",
   "mimetype": "text/x-python",
   "name": "python",
   "nbconvert_exporter": "python",
   "pygments_lexer": "ipython3",
   "version": "3.8.5"
  },
  "orig_nbformat": 4
 },
 "nbformat": 4,
 "nbformat_minor": 2
}