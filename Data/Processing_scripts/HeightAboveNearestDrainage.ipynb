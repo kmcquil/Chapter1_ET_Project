{
 "cells": [
  {
   "cell_type": "markdown",
   "metadata": {},
   "source": [
    "## Use GEE Python API to retrieve the height above the hearest drainage product at 30m resolution for my ROI "
   ]
  },
  {
   "cell_type": "code",
   "execution_count": 1,
   "metadata": {},
   "outputs": [],
   "source": [
    "import ee\r\n",
    "import geemap \r\n",
    "import os\r\n",
    "ee.Initialize()"
   ]
  },
  {
   "cell_type": "code",
   "execution_count": 5,
   "metadata": {},
   "outputs": [],
   "source": [
    "## bring in the ROI from my assets and the HAND 30m product with a threshold of 100 cells \r\n",
    "## use the SBR_XL_simplified boundary because I want to be able to crop/mask at teh same time as reprojecting with gdal to make things more consistent\r\n",
    "roi = ee.FeatureCollection('users/kmcquil/SBR_XL_simplified').geometry()\r\n",
    "hand30_100 = ee.ImageCollection(\"users/gena/global-hand/hand-100\").mosaic()\r\n",
    "## https://samapriya.github.io/awesome-gee-community-datasets/projects/hand/"
   ]
  },
  {
   "cell_type": "code",
   "execution_count": 7,
   "metadata": {},
   "outputs": [],
   "source": [
    "task_config = {\r\n",
    "        'region': roi,\r\n",
    "        'fileFormat': 'GeoTIFF',\r\n",
    "        'folder':'HeightAboveNearestDrainage',\r\n",
    "        'description': 'hand30_100',\r\n",
    "        'image': hand30_100,\r\n",
    "        'maxPixels':1e13, \r\n",
    "        'scale': 30\r\n",
    "    }\r\n",
    "\r\n",
    "task=ee.batch.Export.image.toDrive(**task_config)\r\n",
    "task.start()"
   ]
  },
  {
   "cell_type": "code",
   "execution_count": 8,
   "metadata": {},
   "outputs": [
    {
     "data": {
      "text/plain": [
       "{'state': 'READY',\n",
       " 'description': 'hand30_100',\n",
       " 'creation_timestamp_ms': 1625672099140,\n",
       " 'update_timestamp_ms': 1625672099140,\n",
       " 'start_timestamp_ms': 0,\n",
       " 'task_type': 'EXPORT_IMAGE',\n",
       " 'id': '5M4MGXL7CA64YQ3PFTOXWFWI',\n",
       " 'name': 'projects/earthengine-legacy/operations/5M4MGXL7CA64YQ3PFTOXWFWI'}"
      ]
     },
     "execution_count": 8,
     "metadata": {},
     "output_type": "execute_result"
    }
   ],
   "source": [
    "task.status()"
   ]
  }
 ],
 "metadata": {
  "interpreter": {
   "hash": "420a0a73fcf93f9b93506422e5773340da072faa22a293d29b16ee3c5a4d3f04"
  },
  "kernelspec": {
   "display_name": "Python 3.8.5 64-bit ('gee_py3': conda)",
   "name": "python3"
  },
  "language_info": {
   "codemirror_mode": {
    "name": "ipython",
    "version": 3
   },
   "file_extension": ".py",
   "mimetype": "text/x-python",
   "name": "python",
   "nbconvert_exporter": "python",
   "pygments_lexer": "ipython3",
   "version": "3.8.5"
  },
  "orig_nbformat": 4
 },
 "nbformat": 4,
 "nbformat_minor": 2
}