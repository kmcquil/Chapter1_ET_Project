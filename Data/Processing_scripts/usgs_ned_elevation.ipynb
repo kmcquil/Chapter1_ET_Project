{
 "cells": [
  {
   "cell_type": "markdown",
   "source": [
    "## Use GEE to download USGS 10m Natonal elevation dataset "
   ],
   "metadata": {}
  },
  {
   "cell_type": "code",
   "execution_count": 1,
   "source": [
    "import ee\r\n",
    "import geemap \r\n",
    "import os\r\n",
    "ee.Initialize()"
   ],
   "outputs": [],
   "metadata": {}
  },
  {
   "cell_type": "code",
   "execution_count": 2,
   "source": [
    "roi = ee.FeatureCollection('users/kmcquil/SBR_XL_simplified').geometry()\r\n",
    "dataset = ee.Image('USGS/NED').select('elevation')"
   ],
   "outputs": [],
   "metadata": {}
  },
  {
   "cell_type": "code",
   "execution_count": 3,
   "source": [
    "task_config = {\r\n",
    "        'region': roi,\r\n",
    "        'fileFormat': 'GeoTIFF',\r\n",
    "        'folder':'usgsNED_elevation',\r\n",
    "        'description': 'elevation10m',\r\n",
    "        'image': dataset,\r\n",
    "        'maxPixels':1e13, \r\n",
    "        'scale' : 30\r\n",
    "    }\r\n",
    "\r\n",
    "task=ee.batch.Export.image.toDrive(**task_config)\r\n",
    "task.start()"
   ],
   "outputs": [],
   "metadata": {}
  },
  {
   "cell_type": "code",
   "execution_count": 5,
   "source": [
    "task.status()"
   ],
   "outputs": [
    {
     "output_type": "execute_result",
     "data": {
      "text/plain": [
       "{'state': 'READY',\n",
       " 'description': 'elevation10m',\n",
       " 'creation_timestamp_ms': 1625672382672,\n",
       " 'update_timestamp_ms': 1625672382672,\n",
       " 'start_timestamp_ms': 0,\n",
       " 'task_type': 'EXPORT_IMAGE',\n",
       " 'id': 'OHJMLUUYJWZ4272PGWVKLARV',\n",
       " 'name': 'projects/earthengine-legacy/operations/OHJMLUUYJWZ4272PGWVKLARV'}"
      ]
     },
     "metadata": {},
     "execution_count": 5
    }
   ],
   "metadata": {}
  },
  {
   "cell_type": "code",
   "execution_count": 5,
   "source": [
    "## get the slope and aspect \r\n",
    "slope = ee.Terrain.slope(dataset)\r\n",
    "aspect = ee.Terrain.aspect(dataset)\r\n",
    "sbr = ee.FeatureCollection('users/kmcquil/blue_ridge_ecoregion').geometry()"
   ],
   "outputs": [],
   "metadata": {}
  },
  {
   "cell_type": "code",
   "execution_count": 6,
   "source": [
    "task_config = {\r\n",
    "        'region': sbr,\r\n",
    "        'fileFormat': 'GeoTIFF',\r\n",
    "        'folder':'SpeciesCompositionComparison',\r\n",
    "        'description': 'slope30m',\r\n",
    "        'image': slope,\r\n",
    "        'maxPixels':1e13, \r\n",
    "        'scale' : 30\r\n",
    "    }\r\n",
    "\r\n",
    "task=ee.batch.Export.image.toDrive(**task_config)\r\n",
    "task.start()"
   ],
   "outputs": [],
   "metadata": {}
  },
  {
   "cell_type": "code",
   "execution_count": 7,
   "source": [
    "task_config = {\r\n",
    "        'region': sbr,\r\n",
    "        'fileFormat': 'GeoTIFF',\r\n",
    "        'folder':'SpeciesCompositionComparison',\r\n",
    "        'description': 'aspect30m',\r\n",
    "        'image': aspect,\r\n",
    "        'maxPixels':1e13, \r\n",
    "        'scale' : 30\r\n",
    "    }\r\n",
    "\r\n",
    "task1=ee.batch.Export.image.toDrive(**task_config)\r\n",
    "task1.start()"
   ],
   "outputs": [],
   "metadata": {}
  }
 ],
 "metadata": {
  "interpreter": {
   "hash": "420a0a73fcf93f9b93506422e5773340da072faa22a293d29b16ee3c5a4d3f04"
  },
  "kernelspec": {
   "display_name": "Python 3.8.5 64-bit ('gee_py3': conda)",
   "name": "python3"
  },
  "language_info": {
   "codemirror_mode": {
    "name": "ipython",
    "version": 3
   },
   "file_extension": ".py",
   "mimetype": "text/x-python",
   "name": "python",
   "nbconvert_exporter": "python",
   "pygments_lexer": "ipython3",
   "version": "3.8.5"
  },
  "orig_nbformat": 4
 },
 "nbformat": 4,
 "nbformat_minor": 2
}